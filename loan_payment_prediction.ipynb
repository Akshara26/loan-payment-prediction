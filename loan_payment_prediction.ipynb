{
  "nbformat": 4,
  "nbformat_minor": 0,
  "metadata": {
    "colab": {
      "provenance": []
    },
    "kernelspec": {
      "name": "python3",
      "display_name": "Python 3"
    },
    "language_info": {
      "name": "python"
    }
  },
  "cells": [
    {
      "cell_type": "code",
      "execution_count": null,
      "metadata": {
        "id": "4D-dbcR4etrb"
      },
      "outputs": [],
      "source": [
        "import itertools\n",
        "import numpy as np\n",
        "import matplotlib.pyplot as plt\n",
        "from matplotlib.ticker import NullFormatter\n",
        "import pandas as pd\n",
        "import numpy as np\n",
        "import matplotlib.ticker as ticker\n",
        "from sklearn import preprocessing\n",
        "%matplotlib inline"
      ]
    },
    {
      "cell_type": "code",
      "source": [
        "!wget -O loan_train.csv https://s3-api.us-geo.objectstorage.softlayer.net/cf-courses-data/CognitiveClass/ML0101ENv3/labs/loan_train.csv"
      ],
      "metadata": {
        "id": "0yKV5gz2e0aX"
      },
      "execution_count": null,
      "outputs": []
    },
    {
      "cell_type": "code",
      "source": [
        "df = pd.read_csv('loan_train.csv')\n",
        "df.head()"
      ],
      "metadata": {
        "id": "J89F6uB8e0W0"
      },
      "execution_count": null,
      "outputs": []
    },
    {
      "cell_type": "code",
      "source": [
        "df.shape"
      ],
      "metadata": {
        "id": "rIx1Nb4Ie0Tj"
      },
      "execution_count": null,
      "outputs": []
    },
    {
      "cell_type": "code",
      "source": [
        "df['due_date'] = pd.to_datetime(df['due_date'])\n",
        "df['effective_date'] = pd.to_datetime(df['effective_date'])\n",
        "df.head()"
      ],
      "metadata": {
        "id": "ndWff8kEe0P7"
      },
      "execution_count": null,
      "outputs": []
    },
    {
      "cell_type": "code",
      "source": [
        "df['loan_status'].value_counts()"
      ],
      "metadata": {
        "id": "UpJEcd8ze0MV"
      },
      "execution_count": null,
      "outputs": []
    },
    {
      "cell_type": "code",
      "source": [
        "!conda install -c anaconda seaborn -y\n"
      ],
      "metadata": {
        "id": "86BK90dCe0I5"
      },
      "execution_count": null,
      "outputs": []
    },
    {
      "cell_type": "code",
      "source": [
        "import seaborn as sns\n",
        "\n",
        "bins = np.linspace(df.Principal.min(), df.Principal.max(), 10)\n",
        "g = sns.FacetGrid(df, col=\"Gender\", hue=\"loan_status\", palette=\"Set1\", col_wrap=2)\n",
        "g.map(plt.hist, 'Principal', bins=bins, ec=\"k\")\n",
        "\n",
        "g.axes[-1].legend()\n",
        "plt.show()"
      ],
      "metadata": {
        "id": "hKXvSUFWe0FK"
      },
      "execution_count": null,
      "outputs": []
    },
    {
      "cell_type": "code",
      "source": [
        "bins = np.linspace(df.age.min(), df.age.max(), 10)\n",
        "g = sns.FacetGrid(df, col=\"Gender\", hue=\"loan_status\", palette=\"Set1\", col_wrap=2)\n",
        "g.map(plt.hist, 'age', bins=bins, ec=\"k\")\n",
        "\n",
        "g.axes[-1].legend()\n",
        "plt.show()"
      ],
      "metadata": {
        "id": "91zK4YJwe0Bj"
      },
      "execution_count": null,
      "outputs": []
    },
    {
      "cell_type": "code",
      "source": [
        "df['dayofweek'] = df['effective_date'].dt.dayofweek\n",
        "bins = np.linspace(df.dayofweek.min(), df.dayofweek.max(), 10)\n",
        "g = sns.FacetGrid(df, col=\"Gender\", hue=\"loan_status\", palette=\"Set1\", col_wrap=2)\n",
        "g.map(plt.hist, 'dayofweek', bins=bins, ec=\"k\")\n",
        "g.axes[-1].legend()\n",
        "plt.show()"
      ],
      "metadata": {
        "id": "ibeqMaV_ez-C"
      },
      "execution_count": null,
      "outputs": []
    },
    {
      "cell_type": "code",
      "source": [
        "df['weekend'] = df['dayofweek'].apply(lambda x: 1 if (x>3)  else 0)\n",
        "df.head()"
      ],
      "metadata": {
        "id": "zdzydUJ1ez6z"
      },
      "execution_count": null,
      "outputs": []
    },
    {
      "cell_type": "code",
      "source": [
        "df.groupby(['Gender'])['loan_status'].value_counts(normalize=True)"
      ],
      "metadata": {
        "id": "Ysc8fh1Jez3g"
      },
      "execution_count": null,
      "outputs": []
    },
    {
      "cell_type": "code",
      "source": [
        "df['Gender'].replace(to_replace=['male','female'], value=[0,1],inplace=True)\n",
        "df.head()"
      ],
      "metadata": {
        "id": "Sywo_q9Lez0N"
      },
      "execution_count": null,
      "outputs": []
    },
    {
      "cell_type": "code",
      "source": [
        "df.groupby(['education'])['loan_status'].value_counts(normalize=True)"
      ],
      "metadata": {
        "id": "4a5kYCmXezw-"
      },
      "execution_count": null,
      "outputs": []
    },
    {
      "cell_type": "code",
      "source": [
        "df[['Principal','terms','age','Gender','education']].head()"
      ],
      "metadata": {
        "id": "VAMQ3rv4ezt5"
      },
      "execution_count": null,
      "outputs": []
    },
    {
      "cell_type": "code",
      "source": [
        "Feature = df[['Principal','terms','age','Gender','weekend']]\n",
        "Feature = pd.concat([Feature,pd.get_dummies(df['education'])], axis=1)\n",
        "Feature.drop(['Master or Above'], axis = 1,inplace=True)\n",
        "Feature.head()"
      ],
      "metadata": {
        "id": "TFWVPispezqW"
      },
      "execution_count": null,
      "outputs": []
    },
    {
      "cell_type": "code",
      "source": [
        "X = Feature\n",
        "X[0:5]"
      ],
      "metadata": {
        "id": "fI8UeWIMezm6"
      },
      "execution_count": null,
      "outputs": []
    },
    {
      "cell_type": "code",
      "source": [
        "y = df['loan_status'].values\n",
        "y[0:5]"
      ],
      "metadata": {
        "id": "NauWK5qqezjk"
      },
      "execution_count": null,
      "outputs": []
    },
    {
      "cell_type": "code",
      "source": [
        "X= preprocessing.StandardScaler().fit(X).transform(X)\n",
        "X[0:5]"
      ],
      "metadata": {
        "id": "zsdyffhxezgF"
      },
      "execution_count": null,
      "outputs": []
    },
    {
      "cell_type": "code",
      "source": [
        "from sklearn.model_selection import train_test_split\n",
        "from sklearn.neighbors import KNeighborsClassifier\n",
        "from sklearn import metrics\n",
        "X_train, X_test, y_train, y_test = train_test_split( X, y, test_size=0.2, random_state=4)\n",
        "print ('Train set:', X_train.shape,  y_train.shape)\n",
        "print ('Test set:', X_test.shape,  y_test.shape)"
      ],
      "metadata": {
        "id": "42OMTUpAezcy"
      },
      "execution_count": null,
      "outputs": []
    },
    {
      "cell_type": "code",
      "source": [
        "Ks = 10\n",
        "mean_acc = np.zeros((Ks-1))\n",
        "std_acc = np.zeros((Ks-1))\n",
        "ConfustionMx = [];\n",
        "for n in range(1,Ks):\n",
        "    \n",
        "    #Train Model and Predict  \n",
        "    neigh = KNeighborsClassifier(n_neighbors = n).fit(X_train,y_train)\n",
        "    yhat=neigh.predict(X_test)\n",
        "    mean_acc[n-1] = metrics.accuracy_score(y_test, yhat)\n",
        "    std_acc[n-1]=np.std(yhat==y_test)/np.sqrt(yhat.shape[0])\n",
        "mean_acc"
      ],
      "metadata": {
        "id": "ZsGxRdScg-lV"
      },
      "execution_count": null,
      "outputs": []
    },
    {
      "cell_type": "code",
      "source": [
        "plt.plot(range(1,Ks),mean_acc,'g')\n",
        "plt.fill_between(range(1,Ks),mean_acc - 1 * std_acc,mean_acc + 1 * std_acc, alpha=0.10)\n",
        "plt.legend(('Accuracy ', '+/­ 3xstd'))\n",
        "plt.ylabel('Accuracy ')\n",
        "plt.xlabel('Number of Nabors (K)')\n",
        "plt.tight_layout()\n",
        "plt.show()\n",
        "print( \"The best accuracy was with\", mean_acc.max(), \"with k=\", mean_acc.argmax()+1) "
      ],
      "metadata": {
        "id": "9Z38ytXRg-hl"
      },
      "execution_count": null,
      "outputs": []
    },
    {
      "cell_type": "code",
      "source": [
        "k = 7\n",
        "#Train Model and Predict  \n",
        "neigh = KNeighborsClassifier(n_neighbors = k).fit(X_train,y_train)\n",
        "yhat = neigh.predict(X_test)\n",
        "yhat[0:5]"
      ],
      "metadata": {
        "id": "1sqHFwBRg-dm"
      },
      "execution_count": null,
      "outputs": []
    },
    {
      "cell_type": "code",
      "source": [
        "from sklearn.tree import DecisionTreeClassifier\n",
        "loanTree = DecisionTreeClassifier(criterion=\"entropy\", max_depth = 4)\n",
        "loanTree"
      ],
      "metadata": {
        "id": "E0WJ47O7g-aY"
      },
      "execution_count": null,
      "outputs": []
    },
    {
      "cell_type": "code",
      "source": [
        "X_train03, X_test03, y_train03, y_test03 = train_test_split( X, y, test_size=0.3, random_state=3)\n",
        "print ('Train set:', X_train03.shape,  y_train03.shape)\n",
        "print ('Test set:', X_test03.shape,  y_test03.shape)\n",
        "\n",
        "loanTree.fit(X_train03,y_train03)\n",
        "predTree = loanTree.predict(X_test03)\n",
        "\n",
        "print (predTree [0:5])\n",
        "print (y_test [0:5])"
      ],
      "metadata": {
        "id": "FbsF5TMzg-XX"
      },
      "execution_count": null,
      "outputs": []
    },
    {
      "cell_type": "code",
      "source": [
        "from sklearn import metrics\n",
        "import matplotlib.pyplot as plt\n",
        "print(\"DecisionTrees's Accuracy: \", metrics.accuracy_score(y_test03, predTree))"
      ],
      "metadata": {
        "id": "lDkZDVbmhGG6"
      },
      "execution_count": null,
      "outputs": []
    },
    {
      "cell_type": "code",
      "source": [
        "from sklearn import svm\n",
        "from sklearn.metrics import f1_score\n",
        "from sklearn.metrics import jaccard_similarity_score\n",
        "\n",
        "clf = svm.SVC(kernel='rbf')\n",
        "clf.fit(X_train, y_train)\n",
        "yhat = clf.predict(X_test)\n",
        "\n",
        "print (yhat [0:5])\n",
        "print (y_test [0:5])\n",
        "\n",
        "print(\"Avg F1-score: %.4f\" % f1_score(y_test, yhat, average='weighted'))\n",
        "print(\"Jaccard score: %.4f\" % jaccard_similarity_score(y_test, yhat))"
      ],
      "metadata": {
        "id": "48rAjTFThGDY"
      },
      "execution_count": null,
      "outputs": []
    },
    {
      "cell_type": "code",
      "source": [
        "from sklearn.linear_model import LogisticRegression\n",
        "from sklearn.metrics import confusion_matrix\n",
        "LR = LogisticRegression(C=0.01, solver='liblinear').fit(X_train,y_train)\n",
        "LR"
      ],
      "metadata": {
        "id": "zz_aOUlEhF_o"
      },
      "execution_count": null,
      "outputs": []
    },
    {
      "cell_type": "code",
      "source": [
        "yhat = LR.predict(X_test)\n",
        "print (yhat [0:10])\n",
        "print (y_test [0:10])"
      ],
      "metadata": {
        "id": "l8v9bhNzhF8J"
      },
      "execution_count": null,
      "outputs": []
    },
    {
      "cell_type": "code",
      "source": [
        "from sklearn.metrics import jaccard_similarity_score\n",
        "print (\"Jaccard similarity score: : %.4f\" % jaccard_similarity_score(y_test, yhat))\n",
        "\n",
        "from sklearn.metrics import log_loss\n",
        "yhat_prob = LR.predict_proba(X_test)\n",
        "print (\"LogLoss: : %.4f\" % log_loss(y_test, yhat_prob))"
      ],
      "metadata": {
        "id": "vsWEUVP1hF4m"
      },
      "execution_count": null,
      "outputs": []
    },
    {
      "cell_type": "code",
      "source": [
        "from sklearn.metrics import jaccard_similarity_score\n",
        "from sklearn.metrics import f1_score\n",
        "from sklearn.metrics import log_loss"
      ],
      "metadata": {
        "id": "vSiYFTCQhF1X"
      },
      "execution_count": null,
      "outputs": []
    },
    {
      "cell_type": "code",
      "source": [
        "!wget -O loan_test.csv https://s3-api.us-geo.objectstorage.softlayer.net/cf-courses-data/CognitiveClass/ML0101ENv3/labs/loan_test.csv"
      ],
      "metadata": {
        "id": "LfthyNqzheQf"
      },
      "execution_count": null,
      "outputs": []
    },
    {
      "cell_type": "code",
      "source": [
        "test_df = pd.read_csv('loan_test.csv')\n",
        "test_df.head()"
      ],
      "metadata": {
        "id": "1IyW8_POheM8"
      },
      "execution_count": null,
      "outputs": []
    },
    {
      "cell_type": "code",
      "source": [
        "test_df['effective_date'] = pd.to_datetime(test_df['effective_date'])\n",
        "test_df['dayofweek'] = test_df['effective_date'].dt.dayofweek\n",
        "test_df['weekend'] = test_df['dayofweek'].apply(lambda x: 1 if (x>3)  else 0)\n",
        "test_df['Gender'].replace(to_replace=['male','female'], value=[0,1],inplace=True)\n",
        "Feature2 = test_df[['Principal','terms','age','Gender','weekend']]\n",
        "Feature2 = pd.concat([Feature2,pd.get_dummies(test_df['education'])], axis=1)\n",
        "Feature2.drop(['Master or Above'], axis = 1,inplace=True)\n",
        "X2 = Feature2\n",
        "X2 = preprocessing.StandardScaler().fit(X2).transform(X2)\n",
        "X2[0:5]\n",
        "X2.shape"
      ],
      "metadata": {
        "id": "pVlqb1UTheJM"
      },
      "execution_count": null,
      "outputs": []
    },
    {
      "cell_type": "code",
      "source": [
        "y2 = test_df['loan_status'].values\n",
        "y2[0:5]\n",
        "y2.shape"
      ],
      "metadata": {
        "id": "OE5L6eiIheF8"
      },
      "execution_count": null,
      "outputs": []
    },
    {
      "cell_type": "code",
      "source": [
        "# k nearest neighbours\n",
        "yhat_knn = neigh.predict(X2)\n",
        "jacscore_knn = jaccard_similarity_score(y2, yhat_knn)\n",
        "f1score_knn=f1_score(y2, yhat_knn, average='weighted')\n",
        "print(\"Jaccard score: %.4f\" % jacscore_knn)\n",
        "print(\"Avg F1-score: %.4f\" % f1score_knn)"
      ],
      "metadata": {
        "id": "bjiVkTl3heCf"
      },
      "execution_count": null,
      "outputs": []
    },
    {
      "cell_type": "code",
      "source": [
        "# decision tree\n",
        "yhat_tree = loanTree.predict(X2)\n",
        "jacscore_tree = jaccard_similarity_score(y2, yhat_tree)\n",
        "f1score_tree=f1_score(y2, yhat_tree, average='weighted')\n",
        "print(\"Jaccard score: %.4f\" % jacscore_tree)\n",
        "print(\"Avg F1-score: %.4f\" % f1score_tree)"
      ],
      "metadata": {
        "id": "tgw0Op2qhsE3"
      },
      "execution_count": null,
      "outputs": []
    },
    {
      "cell_type": "code",
      "source": [
        "#svm\n",
        "yhat_svm = clf.predict(X2)\n",
        "jacscore_svm = jaccard_similarity_score(y2, yhat_svm)\n",
        "f1score_svm=f1_score(y2, yhat_svm, average='weighted')\n",
        "print(\"Jaccard score: %.4f\" % jacscore_svm)\n",
        "print(\"Avg F1-score: %.4f\" % f1score_svm)"
      ],
      "metadata": {
        "id": "8Mcns0huhsBg"
      },
      "execution_count": null,
      "outputs": []
    },
    {
      "cell_type": "code",
      "source": [
        "#LR\n",
        "yhat_lr = LR.predict(X2)\n",
        "jacscore_lr = jaccard_similarity_score(y2, yhat_lr)\n",
        "f1score_lr=f1_score(y2, yhat_lr, average='weighted')\n",
        "print(\"Jaccard score: %.4f\" % jacscore_lr)\n",
        "print(\"Avg F1-score: %.4f\" % f1score_lr)\n",
        "yhat_prob_lr = LR.predict_proba(X2)\n",
        "logloss_lr = log_loss(y2, yhat_prob_lr)\n",
        "print (\"LogLoss: %.4f\" % logloss_lr)"
      ],
      "metadata": {
        "id": "U09Vbh8SiWfR"
      },
      "execution_count": null,
      "outputs": []
    },
    {
      "cell_type": "code",
      "source": [
        "from IPython.display import Markdown as md\n",
        "md(\"| Algorithm | Jaccard  | F1-score  | LogLoss |\\n| ------ | ------- | -------- | ------- |\\n| KNN    | %.4f    |  %.4f   |    NA    |\\n| Decision Tree | %.4f | %.4f | NA |\\n| SVM | %.4f | %.4f | NA |\\n| LogisticRegression | %.4f | %.4f | %.4f |\"\n",
        "   % (jacscore_knn, f1score_knn, jacscore_tree, f1score_tree, jacscore_svm, f1score_svm, jacscore_lr, f1score_lr, logloss_lr))"
      ],
      "metadata": {
        "id": "pgWSZefRiWcj"
      },
      "execution_count": null,
      "outputs": []
    }
  ]
}